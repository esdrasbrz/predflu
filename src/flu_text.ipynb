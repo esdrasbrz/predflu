{
 "cells": [
  {
   "cell_type": "markdown",
   "metadata": {},
   "source": [
    "# Detecção de textos falando sobre Influenza a partir dos sintomas encontrados"
   ]
  },
  {
   "cell_type": "code",
   "execution_count": 1,
   "metadata": {},
   "outputs": [],
   "source": [
    "from ontologies.symptom import flu_symptoms, symptoms, all_flu_symptoms\n",
    "import nltk\n",
    "from nltk.util import ngrams\n",
    "from nltk.corpus import stopwords\n",
    "from nltk.tokenize import RegexpTokenizer"
   ]
  },
  {
   "cell_type": "markdown",
   "metadata": {},
   "source": [
    "## Corpus a ser analisado\n",
    "- Insira na variável **corpus** o texto que deve ser analisado"
   ]
  },
  {
   "cell_type": "code",
   "execution_count": 2,
   "metadata": {},
   "outputs": [],
   "source": [
    "corpus = \"I have a lot of cough and fever.\""
   ]
  },
  {
   "cell_type": "code",
   "execution_count": 2,
   "metadata": {},
   "outputs": [],
   "source": [
    "corpus = \"\"\"\n",
    "Initially, the flu may seem like a common cold with a runny nose, sneezing and sore throat. But colds usually develop slowly, whereas the flu tends to come on suddenly. And although a cold can be a nuisance, you usually feel much worse with the flu.\n",
    "\n",
    "Common signs and symptoms of the flu include:\n",
    "\n",
    "Fever over 100.4 F (38 C)\n",
    "Aching muscles\n",
    "Chills and sweats\n",
    "Headache\n",
    "Dry, persistent cough\n",
    "Fatigue and weakness\n",
    "Nasal congestion\n",
    "Sore throat\n",
    "\"\"\""
   ]
  },
  {
   "cell_type": "code",
   "execution_count": 2,
   "metadata": {},
   "outputs": [],
   "source": [
    "corpus = \"\"\"\n",
    "Tessa has the swine flu. Luckily not much worse than a cough and on/off fever.  Getting better!  Time feels weird. Been outta work 2 days.\n",
    "\"\"\""
   ]
  },
  {
   "cell_type": "markdown",
   "metadata": {},
   "source": [
    "## Etapa de pré-processamento\n",
    "\n",
    "Nesta etapa será processado o texto de modo a remover stop-words e criar n-grams (2-grams) para ser identificado os sintomas presentes."
   ]
  },
  {
   "cell_type": "code",
   "execution_count": 3,
   "metadata": {},
   "outputs": [],
   "source": [
    "def preproc(text):\n",
    "    tokenizer = RegexpTokenizer(r'\\w+')\n",
    "    stop_words = set(stopwords.words('english'))\n",
    "    \n",
    "    text = text.lower()\n",
    "    tokens = list(filter(lambda w: w not in stop_words, tokenizer.tokenize(text)))\n",
    "    n_grams_tokens = list(map(lambda s: ' '.join(s), ngrams(tokens, n=2)))\n",
    "    tokens += n_grams_tokens\n",
    "    \n",
    "    return tokens"
   ]
  },
  {
   "cell_type": "code",
   "execution_count": 4,
   "metadata": {},
   "outputs": [
    {
     "name": "stdout",
     "output_type": "stream",
     "text": [
      "['initially', 'flu', 'may', 'seem', 'like', 'common', 'cold', 'runny', 'nose', 'sneezing', 'sore', 'throat', 'colds', 'usually', 'develop', 'slowly', 'whereas', 'flu', 'tends', 'come', 'suddenly', 'although', 'cold', 'nuisance', 'usually', 'feel', 'much', 'worse', 'flu', 'common', 'signs', 'symptoms', 'flu', 'include', 'fever', '100', '4', 'f', '38', 'c', 'aching', 'muscles', 'chills', 'sweats', 'headache', 'dry', 'persistent', 'cough', 'fatigue', 'weakness', 'nasal', 'congestion', 'sore', 'throat', 'initially flu', 'flu may', 'may seem', 'seem like', 'like common', 'common cold', 'cold runny', 'runny nose', 'nose sneezing', 'sneezing sore', 'sore throat', 'throat colds', 'colds usually', 'usually develop', 'develop slowly', 'slowly whereas', 'whereas flu', 'flu tends', 'tends come', 'come suddenly', 'suddenly although', 'although cold', 'cold nuisance', 'nuisance usually', 'usually feel', 'feel much', 'much worse', 'worse flu', 'flu common', 'common signs', 'signs symptoms', 'symptoms flu', 'flu include', 'include fever', 'fever 100', '100 4', '4 f', 'f 38', '38 c', 'c aching', 'aching muscles', 'muscles chills', 'chills sweats', 'sweats headache', 'headache dry', 'dry persistent', 'persistent cough', 'cough fatigue', 'fatigue weakness', 'weakness nasal', 'nasal congestion', 'congestion sore', 'sore throat']\n"
     ]
    }
   ],
   "source": [
    "words = preproc(corpus)\n",
    "print(words)"
   ]
  },
  {
   "cell_type": "markdown",
   "metadata": {},
   "source": [
    "## Encontrando os sintomas com base em ontologias \n",
    "- Utilizado as ontologias: SymptomOntology e FluOntology"
   ]
  },
  {
   "cell_type": "code",
   "execution_count": 5,
   "metadata": {},
   "outputs": [
    {
     "name": "stdout",
     "output_type": "stream",
     "text": [
      "{'sneezing', 'fatigue', 'fever', 'cough', 'congestion', 'runny nose', 'nasal congestion', 'headache', 'chills', 'weakness'}\n",
      "{'fatigue', 'fever', 'cough', 'runny nose', 'nasal congestion', 'headache'}\n"
     ]
    }
   ],
   "source": [
    "flu_symp = flu_symptoms(words, n_threads=1)\n",
    "symp = symptoms(words, n_threads=1)\n",
    "\n",
    "print(symp)\n",
    "print(flu_symp)"
   ]
  },
  {
   "cell_type": "markdown",
   "metadata": {},
   "source": [
    "### Aplicação da similaridade de Jaccard entre os sintomas"
   ]
  },
  {
   "cell_type": "code",
   "execution_count": 6,
   "metadata": {},
   "outputs": [],
   "source": [
    "def jaccard(a, b):\n",
    "    i = len(a.intersection(b))\n",
    "    u = len(a.union(b))\n",
    "    return i / u if u > 0 else 1."
   ]
  },
  {
   "cell_type": "markdown",
   "metadata": {},
   "source": [
    "- Similaridade entre todos os sintomas do texto com os sintomas de influenza contidos no texto"
   ]
  },
  {
   "cell_type": "code",
   "execution_count": 7,
   "metadata": {},
   "outputs": [
    {
     "data": {
      "text/plain": [
       "0.6"
      ]
     },
     "execution_count": 7,
     "metadata": {},
     "output_type": "execute_result"
    }
   ],
   "source": [
    "jaccard(symp, flu_symp)"
   ]
  },
  {
   "cell_type": "markdown",
   "metadata": {},
   "source": [
    "- Similaridade entre os sintomas de influenza contidos no texto e todos presentes na ontologia"
   ]
  },
  {
   "cell_type": "code",
   "execution_count": 8,
   "metadata": {},
   "outputs": [
    {
     "data": {
      "text/plain": [
       "0.75"
      ]
     },
     "execution_count": 8,
     "metadata": {},
     "output_type": "execute_result"
    }
   ],
   "source": [
    "jaccard(flu_symp, all_flu_symptoms())"
   ]
  },
  {
   "cell_type": "markdown",
   "metadata": {},
   "source": [
    "## Analisando mensagens do twitter coletadas"
   ]
  },
  {
   "cell_type": "code",
   "execution_count": 9,
   "metadata": {},
   "outputs": [],
   "source": [
    "twitter_texts = []\n",
    "twitter_fp = '../twitter-data/tweets.csv'\n",
    "with open(twitter_fp, 'r') as fin:\n",
    "    lines = map(lambda l: l.split(','), fin.read().split('\\n')[1:-1])\n",
    "    tweets = list(map(lambda l: l[1] if len(l) >= 2 else l[0], lines))"
   ]
  },
  {
   "cell_type": "code",
   "execution_count": 10,
   "metadata": {},
   "outputs": [
    {
     "name": "stdout",
     "output_type": "stream",
     "text": [
      "number of tweets: 4523\n"
     ]
    }
   ],
   "source": [
    "print('number of tweets: {}'.format(len(tweets)))"
   ]
  },
  {
   "cell_type": "markdown",
   "metadata": {},
   "source": [
    "- Para cada twitter calcular as duas similaridades apresentadas anteriormente entre os sintomas"
   ]
  },
  {
   "cell_type": "code",
   "execution_count": 11,
   "metadata": {},
   "outputs": [],
   "source": [
    "tweets_metrics = []\n",
    "all_flu_symps = all_flu_symptoms()\n",
    "for i, tweet in enumerate(tweets):\n",
    "    words = preproc(tweet)\n",
    "    flu_symp = flu_symptoms(words)\n",
    "    symp = symptoms(words)\n",
    "    \n",
    "    flu_symptoms_sim = jaccard(flu_symp, symp)\n",
    "    all_flu_symptoms_sim = jaccard(flu_symp, all_flu_symps)\n",
    "    tweets_metrics.append((tweet, flu_symptoms_sim, all_flu_symptoms_sim))"
   ]
  },
  {
   "cell_type": "code",
   "execution_count": 12,
   "metadata": {},
   "outputs": [],
   "source": [
    "tweets_metrics.sort(key=lambda t: (t[1], t[2]), reverse=True)"
   ]
  },
  {
   "cell_type": "code",
   "execution_count": 13,
   "metadata": {},
   "outputs": [
    {
     "name": "stdout",
     "output_type": "stream",
     "text": [
      "Tweet: Tessa has the swine flu. Luckily not much worse than a cough and on/off fever.  Getting better!  Time feels weird. Been outta work 2 days. Flu Sim: 1.0 All Flu Sim: 0.25\n",
      "Tweet: 's whole family is freaking out thinking that I have the swine flu.  since when is a headache and a fever the swine flu? Flu Sim: 1.0 All Flu Sim: 0.25\n",
      "Tweet: \"I hav a headache and a hard cough where u cough (not often) but wen u do Flu Sim: 1.0 All Flu Sim: 0.25\n",
      "Tweet: \"@GraceyJones I've been hugging her most of the day!  Motrin's just reducing fever Flu Sim: 1.0 All Flu Sim: 0.125\n",
      "Tweet: H1N1 Flu Update: Better Not Cough! Santas Want Swine Flu Shots: Santas across the nation worry .. http://bit.ly/2RS6Xn Flu Sim: 1.0 All Flu Sim: 0.125\n",
      "Tweet: \"headache from hell Flu Sim: 1.0 All Flu Sim: 0.125\n",
      "Tweet: I have to take a shot of cough syrup. This coughing is getting to be a bit much. This 2day flu is no joke. At least I hope its 2day flu. :-) Flu Sim: 1.0 All Flu Sim: 0.125\n",
      "Tweet: Hagan official has the flu. Fever of 101 and he keeps getting sick. Flu Sim: 1.0 All Flu Sim: 0.125\n",
      "Tweet: i'm getting flu and lil bit fever.. GOD gv me a power to survive. Flu Sim: 1.0 All Flu Sim: 0.125\n",
      "Tweet: I am at home. Fiona is studiously avoiding me for fear of swine flu. #cough Flu Sim: 1.0 All Flu Sim: 0.125\n"
     ]
    }
   ],
   "source": [
    "for t, fs, afs in tweets_metrics[:10]:\n",
    "    print('Tweet: {} Flu Sim: {} All Flu Sim: {}'.format(t, fs, afs))"
   ]
  }
 ],
 "metadata": {
  "kernelspec": {
   "display_name": "Python 3",
   "language": "python",
   "name": "python3"
  },
  "language_info": {
   "codemirror_mode": {
    "name": "ipython",
    "version": 3
   },
   "file_extension": ".py",
   "mimetype": "text/x-python",
   "name": "python",
   "nbconvert_exporter": "python",
   "pygments_lexer": "ipython3",
   "version": "3.7.3"
  }
 },
 "nbformat": 4,
 "nbformat_minor": 2
}
