{
 "cells": [
  {
   "cell_type": "markdown",
   "metadata": {},
   "source": [
    "# Detecção de textos falando sobre Influenza a partir dos sintomas encontrados"
   ]
  },
  {
   "cell_type": "code",
   "execution_count": 13,
   "metadata": {},
   "outputs": [],
   "source": [
    "from ontologies.symptom import flu_symptoms, symptoms, all_flu_symptoms\n",
    "import nltk\n",
    "from nltk.util import ngrams\n",
    "from nltk.corpus import stopwords\n",
    "from nltk.tokenize import RegexpTokenizer"
   ]
  },
  {
   "cell_type": "markdown",
   "metadata": {},
   "source": [
    "## Corpus a ser analisado\n",
    "- Insira na variável **corpus** o texto que deve ser analisado"
   ]
  },
  {
   "cell_type": "code",
   "execution_count": 2,
   "metadata": {},
   "outputs": [],
   "source": [
    "corpus = \"I have a lot of cough and fever.\""
   ]
  },
  {
   "cell_type": "code",
   "execution_count": 2,
   "metadata": {},
   "outputs": [],
   "source": [
    "corpus = \"\"\"\n",
    "Initially, the flu may seem like a common cold with a runny nose, sneezing and sore throat. But colds usually develop slowly, whereas the flu tends to come on suddenly. And although a cold can be a nuisance, you usually feel much worse with the flu.\n",
    "\n",
    "Common signs and symptoms of the flu include:\n",
    "\n",
    "Fever over 100.4 F (38 C)\n",
    "Aching muscles\n",
    "Chills and sweats\n",
    "Headache\n",
    "Dry, persistent cough\n",
    "Fatigue and weakness\n",
    "Nasal congestion\n",
    "Sore throat\n",
    "\"\"\""
   ]
  },
  {
   "cell_type": "markdown",
   "metadata": {},
   "source": [
    "## Etapa de pré-processamento\n",
    "\n",
    "Nesta etapa será processado o texto de modo a remover stop-words e criar n-grams (2-grams) para ser identificado os sintomas presentes."
   ]
  },
  {
   "cell_type": "code",
   "execution_count": 3,
   "metadata": {},
   "outputs": [],
   "source": [
    "def preproc(text):\n",
    "    tokenizer = RegexpTokenizer(r'\\w+')\n",
    "    stop_words = set(stopwords.words('english'))\n",
    "    \n",
    "    text = text.lower()\n",
    "    tokens = list(filter(lambda w: w not in stop_words, tokenizer.tokenize(text)))\n",
    "    n_grams_tokens = list(map(lambda s: ' '.join(s), ngrams(tokens, n=2)))\n",
    "    tokens += n_grams_tokens\n",
    "    \n",
    "    return tokens"
   ]
  },
  {
   "cell_type": "code",
   "execution_count": 4,
   "metadata": {},
   "outputs": [
    {
     "name": "stdout",
     "output_type": "stream",
     "text": [
      "['initially', 'flu', 'may', 'seem', 'like', 'common', 'cold', 'runny', 'nose', 'sneezing', 'sore', 'throat', 'colds', 'usually', 'develop', 'slowly', 'whereas', 'flu', 'tends', 'come', 'suddenly', 'although', 'cold', 'nuisance', 'usually', 'feel', 'much', 'worse', 'flu', 'common', 'signs', 'symptoms', 'flu', 'include', 'fever', '100', '4', 'f', '38', 'c', 'aching', 'muscles', 'chills', 'sweats', 'headache', 'dry', 'persistent', 'cough', 'fatigue', 'weakness', 'nasal', 'congestion', 'sore', 'throat', 'initially flu', 'flu may', 'may seem', 'seem like', 'like common', 'common cold', 'cold runny', 'runny nose', 'nose sneezing', 'sneezing sore', 'sore throat', 'throat colds', 'colds usually', 'usually develop', 'develop slowly', 'slowly whereas', 'whereas flu', 'flu tends', 'tends come', 'come suddenly', 'suddenly although', 'although cold', 'cold nuisance', 'nuisance usually', 'usually feel', 'feel much', 'much worse', 'worse flu', 'flu common', 'common signs', 'signs symptoms', 'symptoms flu', 'flu include', 'include fever', 'fever 100', '100 4', '4 f', 'f 38', '38 c', 'c aching', 'aching muscles', 'muscles chills', 'chills sweats', 'sweats headache', 'headache dry', 'dry persistent', 'persistent cough', 'cough fatigue', 'fatigue weakness', 'weakness nasal', 'nasal congestion', 'congestion sore', 'sore throat']\n"
     ]
    }
   ],
   "source": [
    "words = preproc(corpus)\n",
    "print(words)"
   ]
  },
  {
   "cell_type": "markdown",
   "metadata": {},
   "source": [
    "## Encontrando os sintomas com base em ontologias \n",
    "- Utilizado as ontologias: SymptomOntology e FluOntology"
   ]
  },
  {
   "cell_type": "code",
   "execution_count": 10,
   "metadata": {},
   "outputs": [
    {
     "name": "stdout",
     "output_type": "stream",
     "text": [
      "{'runny nose', 'sneezing', 'fever', 'headache', 'congestion', 'nasal congestion', 'fatigue', 'weakness', 'cough', 'chills'}\n",
      "{'runny nose', 'headache', 'fever', 'nasal congestion', 'fatigue', 'cough'}\n"
     ]
    }
   ],
   "source": [
    "symp = symptoms(words, n_threads=8)\n",
    "flu_symp = flu_symptoms(words, n_threads=1)\n",
    "\n",
    "print(symp)\n",
    "print(flu_symp)"
   ]
  },
  {
   "cell_type": "markdown",
   "metadata": {},
   "source": [
    "### Aplicação da similaridade de Jaccard entre os sintomas"
   ]
  },
  {
   "cell_type": "code",
   "execution_count": 15,
   "metadata": {},
   "outputs": [],
   "source": [
    "def jaccard(a, b):\n",
    "    i = len(a.intersection(b))\n",
    "    u = len(a.union(b))\n",
    "    return i / u if u > 0 else 1."
   ]
  },
  {
   "cell_type": "markdown",
   "metadata": {},
   "source": [
    "- Similaridade entre todos os sintomas do texto com os sintomas de influenza contidos no texto"
   ]
  },
  {
   "cell_type": "code",
   "execution_count": 16,
   "metadata": {},
   "outputs": [
    {
     "data": {
      "text/plain": [
       "0.6"
      ]
     },
     "execution_count": 16,
     "metadata": {},
     "output_type": "execute_result"
    }
   ],
   "source": [
    "jaccard(symp, flu_symp)"
   ]
  },
  {
   "cell_type": "markdown",
   "metadata": {},
   "source": [
    "- Similaridade entre os sintomas de influenza contidos no texto e todos presentes na ontologia"
   ]
  },
  {
   "cell_type": "code",
   "execution_count": null,
   "metadata": {},
   "outputs": [],
   "source": [
    "jaccard(symp, all_)"
   ]
  }
 ],
 "metadata": {
  "kernelspec": {
   "display_name": "Python 3",
   "language": "python",
   "name": "python3"
  },
  "language_info": {
   "codemirror_mode": {
    "name": "ipython",
    "version": 3
   },
   "file_extension": ".py",
   "mimetype": "text/x-python",
   "name": "python",
   "nbconvert_exporter": "python",
   "pygments_lexer": "ipython3",
   "version": "3.7.3"
  }
 },
 "nbformat": 4,
 "nbformat_minor": 2
}
